{
 "cells": [
  {
   "cell_type": "code",
   "execution_count": null,
   "id": "82e3b67b-b92a-41fc-846c-1c0f3add93ff",
   "metadata": {},
   "outputs": [],
   "source": [
    "!pip install scikit-learn numpy"
   ]
  },
  {
   "cell_type": "code",
   "execution_count": 6,
   "id": "0db0583a-ad48-45a2-b0b9-2d8f7d5dae7f",
   "metadata": {},
   "outputs": [
    {
     "name": "stdout",
     "output_type": "stream",
     "text": [
      "Predicted Fruit: 🍎 Apple\n"
     ]
    }
   ],
   "source": [
    "# Step 1: Required libraries import karo\n",
    "from sklearn.neighbors import KNeighborsClassifier\n",
    "import numpy as np\n",
    "\n",
    "# Step 2: Training data (features & labels)\n",
    "# X = features (weight, color_code etc.)\n",
    "X = np.array([\n",
    "    [150, 1],   # Apple (light red)\n",
    "    [170, 1],   # Apple\n",
    "    [140, 0],   # Orange (light orange)\n",
    "    [130, 0]    # Orange\n",
    "])\n",
    "\n",
    "# y = labels (0 = Orange, 1 = Apple)\n",
    "y = np.array([1, 1, 0, 0])\n",
    "\n",
    "# Step 3: KNN model banao (K=1 for Nearest Neighbor)\n",
    "model = KNeighborsClassifier(n_neighbors=1)\n",
    "\n",
    "# Step 4: Model train karo\n",
    "model.fit(X, y)\n",
    "\n",
    "# Step 5: New data predict karo\n",
    "new_fruit = np.array([[160, 1]])  # Ek naya fruit with weight=160 and color_code=1\n",
    "prediction = model.predict(new_fruit)\n",
    "\n",
    "# Step 6: Output print karo\n",
    "if prediction[0] == 1:\n",
    "    print(\"Predicted Fruit: 🍎 Apple\")\n",
    "else:\n",
    "    print(\"Predicted Fruit: 🍊 Orange\")\n"
   ]
  }
 ],
 "metadata": {
  "kernelspec": {
   "display_name": "Python 3 (ipykernel)",
   "language": "python",
   "name": "python3"
  },
  "language_info": {
   "codemirror_mode": {
    "name": "ipython",
    "version": 3
   },
   "file_extension": ".py",
   "mimetype": "text/x-python",
   "name": "python",
   "nbconvert_exporter": "python",
   "pygments_lexer": "ipython3",
   "version": "3.13.5"
  }
 },
 "nbformat": 4,
 "nbformat_minor": 5
}
